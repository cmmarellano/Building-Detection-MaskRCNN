{
 "cells": [
  {
   "cell_type": "code",
   "execution_count": null,
   "metadata": {},
   "outputs": [],
   "source": [
    "# Here, we try to convert TIF file into RGB and save them"
   ]
  },
  {
   "cell_type": "markdown",
   "metadata": {},
   "source": [
    "# TIFF File --> RGB"
   ]
  },
  {
   "cell_type": "code",
   "execution_count": 4,
   "metadata": {},
   "outputs": [],
   "source": [
    "import os, glob\n",
    "from rasterio.plot import reshape_as_image\n",
    "import rasterio\n",
    "import numpy as np\n",
    "from skimage.io import imsave"
   ]
  },
  {
   "cell_type": "code",
   "execution_count": 5,
   "metadata": {},
   "outputs": [
    {
     "data": {
      "text/plain": [
       "list"
      ]
     },
     "execution_count": 5,
     "metadata": {},
     "output_type": "execute_result"
    }
   ],
   "source": [
    "PATH = 'C:\\\\Users\\\\carellano.LEGION5PRO-O3OB\\\\Documents\\\\IP AppDev\\\\Data\\\\SpaceNet\\\\PS-RGB_selected'\n",
    "list_tif = os.listdir(PATH)\n",
    "type(list_tif)"
   ]
  },
  {
   "cell_type": "code",
   "execution_count": 45,
   "metadata": {},
   "outputs": [
    {
     "data": {
      "text/plain": [
       "['/Users/carellano.LEGION5PRO-O3OB/Documents/IP AppDev/Data/SpaceNet/PS-RGB2_selected\\\\PS-RGB_img1003.tif',\n",
       " '/Users/carellano.LEGION5PRO-O3OB/Documents/IP AppDev/Data/SpaceNet/PS-RGB2_selected\\\\PS-RGB_img1004.tif',\n",
       " '/Users/carellano.LEGION5PRO-O3OB/Documents/IP AppDev/Data/SpaceNet/PS-RGB2_selected\\\\PS-RGB_img1113.tif',\n",
       " '/Users/carellano.LEGION5PRO-O3OB/Documents/IP AppDev/Data/SpaceNet/PS-RGB2_selected\\\\PS-RGB_img1114.tif',\n",
       " '/Users/carellano.LEGION5PRO-O3OB/Documents/IP AppDev/Data/SpaceNet/PS-RGB2_selected\\\\PS-RGB_img1115.tif',\n",
       " '/Users/carellano.LEGION5PRO-O3OB/Documents/IP AppDev/Data/SpaceNet/PS-RGB2_selected\\\\PS-RGB_img1116.tif',\n",
       " '/Users/carellano.LEGION5PRO-O3OB/Documents/IP AppDev/Data/SpaceNet/PS-RGB2_selected\\\\PS-RGB_img1232.tif',\n",
       " '/Users/carellano.LEGION5PRO-O3OB/Documents/IP AppDev/Data/SpaceNet/PS-RGB2_selected\\\\PS-RGB_img1233.tif',\n",
       " '/Users/carellano.LEGION5PRO-O3OB/Documents/IP AppDev/Data/SpaceNet/PS-RGB2_selected\\\\PS-RGB_img1234.tif',\n",
       " '/Users/carellano.LEGION5PRO-O3OB/Documents/IP AppDev/Data/SpaceNet/PS-RGB2_selected\\\\PS-RGB_img1235.tif',\n",
       " '/Users/carellano.LEGION5PRO-O3OB/Documents/IP AppDev/Data/SpaceNet/PS-RGB2_selected\\\\PS-RGB_img1345.tif',\n",
       " '/Users/carellano.LEGION5PRO-O3OB/Documents/IP AppDev/Data/SpaceNet/PS-RGB2_selected\\\\PS-RGB_img1346.tif',\n",
       " '/Users/carellano.LEGION5PRO-O3OB/Documents/IP AppDev/Data/SpaceNet/PS-RGB2_selected\\\\PS-RGB_img1348.tif',\n",
       " '/Users/carellano.LEGION5PRO-O3OB/Documents/IP AppDev/Data/SpaceNet/PS-RGB2_selected\\\\PS-RGB_img1452.tif',\n",
       " '/Users/carellano.LEGION5PRO-O3OB/Documents/IP AppDev/Data/SpaceNet/PS-RGB2_selected\\\\PS-RGB_img1453.tif',\n",
       " '/Users/carellano.LEGION5PRO-O3OB/Documents/IP AppDev/Data/SpaceNet/PS-RGB2_selected\\\\PS-RGB_img1454.tif']"
      ]
     },
     "execution_count": 45,
     "metadata": {},
     "output_type": "execute_result"
    }
   ],
   "source": [
    "list_tif = (glob.glob(\"/Users/carellano.LEGION5PRO-O3OB/Documents/IP AppDev/Data/SpaceNet/PS-RGB2_selected/*.tif\"))\n",
    "list_tif"
   ]
  },
  {
   "cell_type": "code",
   "execution_count": 46,
   "metadata": {},
   "outputs": [],
   "source": [
    "c = '\\\\Users\\\\carellano.LEGION5PRO-O3OB\\\\Documents\\\\IP AppDev\\\\Data\\\\SpaceNet\\\\PS-RGB2_selected\\\\PS-RGB_img1452.tif'"
   ]
  },
  {
   "cell_type": "code",
   "execution_count": 47,
   "metadata": {},
   "outputs": [],
   "source": [
    "folder = 'PS-RGB_'\n",
    "start= c.find(folder)+ len(folder)\n",
    "end= c.find('img')\n",
    "\n",
    "appender = c[start:end]\n"
   ]
  },
  {
   "cell_type": "code",
   "execution_count": 48,
   "metadata": {},
   "outputs": [
    {
     "data": {
      "text/plain": [
       "91"
      ]
     },
     "execution_count": 48,
     "metadata": {},
     "output_type": "execute_result"
    }
   ],
   "source": [
    "start"
   ]
  },
  {
   "cell_type": "code",
   "execution_count": 49,
   "metadata": {},
   "outputs": [
    {
     "data": {
      "text/plain": [
       "7"
      ]
     },
     "execution_count": 49,
     "metadata": {},
     "output_type": "execute_result"
    }
   ],
   "source": [
    "len(folder)"
   ]
  },
  {
   "cell_type": "code",
   "execution_count": 50,
   "metadata": {},
   "outputs": [
    {
     "data": {
      "text/plain": [
       "91"
      ]
     },
     "execution_count": 50,
     "metadata": {},
     "output_type": "execute_result"
    }
   ],
   "source": [
    "end"
   ]
  },
  {
   "cell_type": "code",
   "execution_count": 51,
   "metadata": {},
   "outputs": [
    {
     "data": {
      "text/plain": [
       "''"
      ]
     },
     "execution_count": 51,
     "metadata": {},
     "output_type": "execute_result"
    }
   ],
   "source": [
    "appender"
   ]
  },
  {
   "cell_type": "code",
   "execution_count": 27,
   "metadata": {},
   "outputs": [
    {
     "data": {
      "text/plain": [
       "'C:\\\\Users\\\\carellano.LEGION5PRO-O3OB\\\\Documents\\\\IP AppDev\\\\Data\\\\SpaceNet\\\\PS-RGB_selected\\\\PS-RGB_img'"
      ]
     },
     "execution_count": 27,
     "metadata": {},
     "output_type": "execute_result"
    }
   ],
   "source": [
    "TIF_PATH = PATH+'\\\\'+\"PS-RGB_img\"+appender #We get all the files one by one\n",
    "TIF_PATH"
   ]
  },
  {
   "cell_type": "code",
   "execution_count": 31,
   "metadata": {},
   "outputs": [
    {
     "data": {
      "text/plain": [
       "str"
      ]
     },
     "execution_count": 31,
     "metadata": {},
     "output_type": "execute_result"
    }
   ],
   "source": [
    "type(appender)"
   ]
  },
  {
   "cell_type": "code",
   "execution_count": 17,
   "metadata": {},
   "outputs": [
    {
     "name": "stdout",
     "output_type": "stream",
     "text": [
      "\n"
     ]
    },
    {
     "ename": "RasterioIOError",
     "evalue": "C:/Users/carellano.LEGION5PRO-O3OB/Documents/IP AppDev/Data/SpaceNet/PS-RGB_selected/PS-RGB_img: No such file or directory",
     "output_type": "error",
     "traceback": [
      "\u001b[1;31m---------------------------------------------------------------------------\u001b[0m",
      "\u001b[1;31mCPLE_OpenFailedError\u001b[0m                      Traceback (most recent call last)",
      "File \u001b[1;32mrasterio\\_base.pyx:302\u001b[0m, in \u001b[0;36mrasterio._base.DatasetBase.__init__\u001b[1;34m()\u001b[0m\n",
      "File \u001b[1;32mrasterio\\_base.pyx:213\u001b[0m, in \u001b[0;36mrasterio._base.open_dataset\u001b[1;34m()\u001b[0m\n",
      "File \u001b[1;32mrasterio\\_err.pyx:217\u001b[0m, in \u001b[0;36mrasterio._err.exc_wrap_pointer\u001b[1;34m()\u001b[0m\n",
      "\u001b[1;31mCPLE_OpenFailedError\u001b[0m: C:/Users/carellano.LEGION5PRO-O3OB/Documents/IP AppDev/Data/SpaceNet/PS-RGB_selected/PS-RGB_img: No such file or directory",
      "\nDuring handling of the above exception, another exception occurred:\n",
      "\u001b[1;31mRasterioIOError\u001b[0m                           Traceback (most recent call last)",
      "Input \u001b[1;32mIn [17]\u001b[0m, in \u001b[0;36m<cell line: 1>\u001b[1;34m()\u001b[0m\n\u001b[0;32m      7\u001b[0m \u001b[38;5;28mprint\u001b[39m(appender)\n\u001b[0;32m      8\u001b[0m TIF_PATH \u001b[38;5;241m=\u001b[39m PATH\u001b[38;5;241m+\u001b[39m\u001b[38;5;124m'\u001b[39m\u001b[38;5;130;01m\\\\\u001b[39;00m\u001b[38;5;124m'\u001b[39m\u001b[38;5;241m+\u001b[39m\u001b[38;5;124m\"\u001b[39m\u001b[38;5;124mPS-RGB_img\u001b[39m\u001b[38;5;124m\"\u001b[39m\u001b[38;5;241m+\u001b[39mappender \u001b[38;5;66;03m#We get all the files one by one\u001b[39;00m\n\u001b[1;32m---> 11\u001b[0m \u001b[38;5;28;01mwith\u001b[39;00m \u001b[43mrasterio\u001b[49m\u001b[38;5;241;43m.\u001b[39;49m\u001b[43mopen\u001b[49m\u001b[43m(\u001b[49m\u001b[43mTIF_PATH\u001b[49m\u001b[43m,\u001b[49m\u001b[43m \u001b[49m\u001b[38;5;124;43m'\u001b[39;49m\u001b[38;5;124;43mr\u001b[39;49m\u001b[38;5;124;43m'\u001b[39;49m\u001b[43m)\u001b[49m \u001b[38;5;28;01mas\u001b[39;00m ds:\n\u001b[0;32m     12\u001b[0m     arr \u001b[38;5;241m=\u001b[39m ds\u001b[38;5;241m.\u001b[39mread() \u001b[38;5;66;03m# Read TIF file\u001b[39;00m\n\u001b[0;32m     13\u001b[0m     image \u001b[38;5;241m=\u001b[39m reshape_as_image(arr) \u001b[38;5;66;03m# TIF file's dimentions were (bands, rows, columns),\u001b[39;00m\n",
      "File \u001b[1;32mC:\\ProgramData\\Miniconda3\\envs\\py39_tf\\lib\\site-packages\\rasterio\\env.py:442\u001b[0m, in \u001b[0;36mensure_env_with_credentials.<locals>.wrapper\u001b[1;34m(*args, **kwds)\u001b[0m\n\u001b[0;32m    439\u001b[0m     session \u001b[38;5;241m=\u001b[39m DummySession()\n\u001b[0;32m    441\u001b[0m \u001b[38;5;28;01mwith\u001b[39;00m env_ctor(session\u001b[38;5;241m=\u001b[39msession):\n\u001b[1;32m--> 442\u001b[0m     \u001b[38;5;28;01mreturn\u001b[39;00m f(\u001b[38;5;241m*\u001b[39margs, \u001b[38;5;241m*\u001b[39m\u001b[38;5;241m*\u001b[39mkwds)\n",
      "File \u001b[1;32mC:\\ProgramData\\Miniconda3\\envs\\py39_tf\\lib\\site-packages\\rasterio\\__init__.py:277\u001b[0m, in \u001b[0;36mopen\u001b[1;34m(fp, mode, driver, width, height, count, crs, transform, dtype, nodata, sharing, **kwargs)\u001b[0m\n\u001b[0;32m    274\u001b[0m path \u001b[38;5;241m=\u001b[39m _parse_path(raw_dataset_path)\n\u001b[0;32m    276\u001b[0m \u001b[38;5;28;01mif\u001b[39;00m mode \u001b[38;5;241m==\u001b[39m \u001b[38;5;124m\"\u001b[39m\u001b[38;5;124mr\u001b[39m\u001b[38;5;124m\"\u001b[39m:\n\u001b[1;32m--> 277\u001b[0m     dataset \u001b[38;5;241m=\u001b[39m DatasetReader(path, driver\u001b[38;5;241m=\u001b[39mdriver, sharing\u001b[38;5;241m=\u001b[39msharing, \u001b[38;5;241m*\u001b[39m\u001b[38;5;241m*\u001b[39mkwargs)\n\u001b[0;32m    278\u001b[0m \u001b[38;5;28;01melif\u001b[39;00m mode \u001b[38;5;241m==\u001b[39m \u001b[38;5;124m\"\u001b[39m\u001b[38;5;124mr+\u001b[39m\u001b[38;5;124m\"\u001b[39m:\n\u001b[0;32m    279\u001b[0m     dataset \u001b[38;5;241m=\u001b[39m get_writer_for_path(path, driver\u001b[38;5;241m=\u001b[39mdriver)(\n\u001b[0;32m    280\u001b[0m         path, mode, driver\u001b[38;5;241m=\u001b[39mdriver, sharing\u001b[38;5;241m=\u001b[39msharing, \u001b[38;5;241m*\u001b[39m\u001b[38;5;241m*\u001b[39mkwargs\n\u001b[0;32m    281\u001b[0m     )\n",
      "File \u001b[1;32mrasterio\\_base.pyx:304\u001b[0m, in \u001b[0;36mrasterio._base.DatasetBase.__init__\u001b[1;34m()\u001b[0m\n",
      "\u001b[1;31mRasterioIOError\u001b[0m: C:/Users/carellano.LEGION5PRO-O3OB/Documents/IP AppDev/Data/SpaceNet/PS-RGB_selected/PS-RGB_img: No such file or directory"
     ]
    }
   ],
   "source": [
    "for i in list_tif:\n",
    "\n",
    "    folder = 'PS-RGB_selected\\\\PS-RGB_'\n",
    "    start= i.find(folder)+ len(folder)\n",
    "    end= i.find('_img')\n",
    "    appender = i[start:end]\n",
    "\n",
    "    TIF_PATH = PATH+'\\\\'+\"PS-RGB_img\"+appender #We get all the files one by one\n",
    "    \n",
    "\n",
    "    with rasterio.open(TIF_PATH, 'r') as ds:\n",
    "        arr = ds.read() # Read TIF file\n",
    "        image = reshape_as_image(arr) # TIF file's dimentions were (bands, rows, columns),\n",
    "                                              # convert them to (rows, columns, bands)\n",
    "        yeni = np.copy(image) # Convert to numpy array\n",
    "        ratio = np.amax(yeni) / 256 # The image still cannot be used, because its bit is different.\n",
    "        img8 = (yeni / ratio).astype('uint8') #  8 bit unsigned!!\n",
    "\n",
    "        imsave('C:\\\\Users\\\\carellano.LEGION5PRO-O3OB\\\\Documents\\\\IP AppDev\\\\Data\\\\SpaceNet\\\\PS-RGB_selected_toPNG\\\\'+str(appender)+'test.png',img8)"
   ]
  }
 ],
 "metadata": {
  "kernelspec": {
   "display_name": "Python 3 (ipykernel)",
   "language": "python",
   "name": "python3"
  },
  "language_info": {
   "codemirror_mode": {
    "name": "ipython",
    "version": 3
   },
   "file_extension": ".py",
   "mimetype": "text/x-python",
   "name": "python",
   "nbconvert_exporter": "python",
   "pygments_lexer": "ipython3",
   "version": "3.9.12"
  }
 },
 "nbformat": 4,
 "nbformat_minor": 2
}
