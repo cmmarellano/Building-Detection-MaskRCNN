{
 "cells": [
  {
   "cell_type": "code",
   "execution_count": null,
   "metadata": {},
   "outputs": [],
   "source": [
    "# Here, we try to convert TIF file into RGB and save them"
   ]
  },
  {
   "cell_type": "markdown",
   "metadata": {},
   "source": [
    "# TIFF File --> RGB"
   ]
  },
  {
   "cell_type": "code",
   "execution_count": 60,
   "metadata": {},
   "outputs": [],
   "source": [
    "import os, glob\n",
    "from rasterio.plot import reshape_as_image\n",
    "import rasterio\n",
    "import numpy as np\n",
    "from skimage.io import imsave\n",
    "from osgeo import gdal\n",
    "import subprocess\n"
   ]
  },
  {
   "cell_type": "code",
   "execution_count": 3,
   "metadata": {},
   "outputs": [
    {
     "data": {
      "text/plain": [
       "list"
      ]
     },
     "execution_count": 3,
     "metadata": {},
     "output_type": "execute_result"
    }
   ],
   "source": [
    "PATH = 'C:\\\\Users\\\\carellano.LEGION5PRO-O3OB\\\\Documents\\\\IP AppDev\\\\Data\\\\SpaceNet\\\\PS-RGB2_selected'\n",
    "list_tif = os.listdir(PATH)\n",
    "type(list_tif)"
   ]
  },
  {
   "cell_type": "code",
   "execution_count": 6,
   "metadata": {},
   "outputs": [
    {
     "data": {
      "text/plain": [
       "['C:\\\\Users\\\\carellano.LEGION5PRO-O3OB\\\\Documents\\\\IP AppDev\\\\Data\\\\SpaceNet\\\\PS-RGB2_selected\\\\PS-RGB_img1003.tif',\n",
       " 'C:\\\\Users\\\\carellano.LEGION5PRO-O3OB\\\\Documents\\\\IP AppDev\\\\Data\\\\SpaceNet\\\\PS-RGB2_selected\\\\PS-RGB_img1004.tif',\n",
       " 'C:\\\\Users\\\\carellano.LEGION5PRO-O3OB\\\\Documents\\\\IP AppDev\\\\Data\\\\SpaceNet\\\\PS-RGB2_selected\\\\PS-RGB_img1113.tif',\n",
       " 'C:\\\\Users\\\\carellano.LEGION5PRO-O3OB\\\\Documents\\\\IP AppDev\\\\Data\\\\SpaceNet\\\\PS-RGB2_selected\\\\PS-RGB_img1114.tif',\n",
       " 'C:\\\\Users\\\\carellano.LEGION5PRO-O3OB\\\\Documents\\\\IP AppDev\\\\Data\\\\SpaceNet\\\\PS-RGB2_selected\\\\PS-RGB_img1115.tif',\n",
       " 'C:\\\\Users\\\\carellano.LEGION5PRO-O3OB\\\\Documents\\\\IP AppDev\\\\Data\\\\SpaceNet\\\\PS-RGB2_selected\\\\PS-RGB_img1116.tif',\n",
       " 'C:\\\\Users\\\\carellano.LEGION5PRO-O3OB\\\\Documents\\\\IP AppDev\\\\Data\\\\SpaceNet\\\\PS-RGB2_selected\\\\PS-RGB_img1232.tif',\n",
       " 'C:\\\\Users\\\\carellano.LEGION5PRO-O3OB\\\\Documents\\\\IP AppDev\\\\Data\\\\SpaceNet\\\\PS-RGB2_selected\\\\PS-RGB_img1233.tif',\n",
       " 'C:\\\\Users\\\\carellano.LEGION5PRO-O3OB\\\\Documents\\\\IP AppDev\\\\Data\\\\SpaceNet\\\\PS-RGB2_selected\\\\PS-RGB_img1234.tif',\n",
       " 'C:\\\\Users\\\\carellano.LEGION5PRO-O3OB\\\\Documents\\\\IP AppDev\\\\Data\\\\SpaceNet\\\\PS-RGB2_selected\\\\PS-RGB_img1235.tif',\n",
       " 'C:\\\\Users\\\\carellano.LEGION5PRO-O3OB\\\\Documents\\\\IP AppDev\\\\Data\\\\SpaceNet\\\\PS-RGB2_selected\\\\PS-RGB_img1345.tif',\n",
       " 'C:\\\\Users\\\\carellano.LEGION5PRO-O3OB\\\\Documents\\\\IP AppDev\\\\Data\\\\SpaceNet\\\\PS-RGB2_selected\\\\PS-RGB_img1346.tif',\n",
       " 'C:\\\\Users\\\\carellano.LEGION5PRO-O3OB\\\\Documents\\\\IP AppDev\\\\Data\\\\SpaceNet\\\\PS-RGB2_selected\\\\PS-RGB_img1348.tif',\n",
       " 'C:\\\\Users\\\\carellano.LEGION5PRO-O3OB\\\\Documents\\\\IP AppDev\\\\Data\\\\SpaceNet\\\\PS-RGB2_selected\\\\PS-RGB_img1452.tif',\n",
       " 'C:\\\\Users\\\\carellano.LEGION5PRO-O3OB\\\\Documents\\\\IP AppDev\\\\Data\\\\SpaceNet\\\\PS-RGB2_selected\\\\PS-RGB_img1453.tif',\n",
       " 'C:\\\\Users\\\\carellano.LEGION5PRO-O3OB\\\\Documents\\\\IP AppDev\\\\Data\\\\SpaceNet\\\\PS-RGB2_selected\\\\PS-RGB_img1454.tif']"
      ]
     },
     "execution_count": 6,
     "metadata": {},
     "output_type": "execute_result"
    }
   ],
   "source": [
    "list_tif = (glob.glob(\"C:\\\\Users\\\\carellano.LEGION5PRO-O3OB\\\\Documents\\\\IP AppDev\\\\Data\\\\SpaceNet\\\\PS-RGB2_selected\\\\*.tif\"))\n",
    "list_tif"
   ]
  },
  {
   "cell_type": "code",
   "execution_count": 7,
   "metadata": {},
   "outputs": [],
   "source": [
    "c = 'C:\\\\Users\\\\carellano.LEGION5PRO-O3OB\\\\Documents\\\\IP AppDev\\\\Data\\\\SpaceNet\\\\PS-RGB2_selected\\\\PS-RGB_img1452.tif'"
   ]
  },
  {
   "cell_type": "code",
   "execution_count": 8,
   "metadata": {},
   "outputs": [
    {
     "data": {
      "text/plain": [
       "'C:\\\\Users\\\\carellano.LEGION5PRO-O3OB\\\\Documents\\\\IP AppDev\\\\Data\\\\SpaceNet\\\\PS-RGB2_selected\\\\PS-RGB_img1452.tif'"
      ]
     },
     "execution_count": 8,
     "metadata": {},
     "output_type": "execute_result"
    }
   ],
   "source": [
    "c"
   ]
  },
  {
   "cell_type": "code",
   "execution_count": 48,
   "metadata": {},
   "outputs": [],
   "source": [
    "fname = os.path.basename(c)\n",
    "finder = 'PS-RGB_img'\n",
    "start = c.find(fname)+ len(finder)\n",
    "end = c.find('.tif')\n",
    "appender = c[start:end]"
   ]
  },
  {
   "cell_type": "code",
   "execution_count": 53,
   "metadata": {},
   "outputs": [
    {
     "data": {
      "text/plain": [
       "'1452'"
      ]
     },
     "execution_count": 53,
     "metadata": {},
     "output_type": "execute_result"
    }
   ],
   "source": [
    "appender"
   ]
  },
  {
   "cell_type": "code",
   "execution_count": 54,
   "metadata": {},
   "outputs": [
    {
     "data": {
      "text/plain": [
       "'C:\\\\Users\\\\carellano.LEGION5PRO-O3OB\\\\Documents\\\\IP AppDev\\\\Data\\\\SpaceNet\\\\PS-RGB2_selected\\\\PS-RGB_img1452'"
      ]
     },
     "execution_count": 54,
     "metadata": {},
     "output_type": "execute_result"
    }
   ],
   "source": [
    "TIF_PATH = PATH+'\\\\'+\"PS-RGB_img\"+appender #We get all the files one by one\n",
    "TIF_PATH"
   ]
  },
  {
   "cell_type": "code",
   "execution_count": 61,
   "metadata": {},
   "outputs": [],
   "source": [
    "# for i in list_tif:\n",
    "#     print(i)\n",
    "#     fname = os.path.basename(i)\n",
    "#     finder = 'PS-RGB_img'\n",
    "#     start = c.find(fname)+ len(finder)\n",
    "#     end = c.find('.tif')\n",
    "#     appender = c[start:end]\n",
    "\n",
    "#     TIF_PATH = (\"\\\\PS-RGB_img{}.tif\").format(appender) #We get all the files one by one\n",
    "# #     \n",
    "\n",
    "#     with rasterio.open(TIF_PATH, 'r') as ds:\n",
    "#         arr = ds.read() # Read TIF file\n",
    "#         image = reshape_as_image(arr) # TIF file's dimentions were (bands, rows, columns),\n",
    "#                                               # convert them to (rows, columns, bands)\n",
    "#         yeni = np.copy(image) # Convert to numpy array\n",
    "#         ratio = np.amax(yeni) / 256 # The image still cannot be used, because its bit is different.\n",
    "#         img8 = (yeni / ratio).astype('uint8') #  8 bit unsigned!!\n",
    "\n",
    "#         imsave('C:\\\\Users\\\\carellano.LEGION5PRO-O3OB\\\\Documents\\\\IP AppDev\\\\Data\\\\SpaceNet\\\\PS-RGB_selected_toPNG\\\\'+str(appender)+'test.png',img8)"
   ]
  },
  {
   "cell_type": "code",
   "execution_count": 63,
   "metadata": {},
   "outputs": [],
   "source": [
    "# -*- coding: utf-8 -*-\n",
    "\"\"\"\n",
    "Created on Tue Aug 11 16:50:09 2020\n",
    "\n",
    "@author: MUSTAFAAKTAS\n",
    "\"\"\"\n",
    "\n",
    "\n",
    "def conv16bit_to_8Bit(inputRaster, outputRaster, outputPixType='Byte', outputFormat='png', percentiles=[2, 98]):\n",
    "    '''\n",
    "    Convert 16bit image to 8bit\n",
    "    Source: Medium.com, 'Creating Training Datasets for the SpaceNet Road Detection and Routing Challenge' by Adam Van Etten and Jake Shermeyer\n",
    "    '''\n",
    "    \n",
    "    srcRaster = gdal.Open(inputRaster)\n",
    "    cmd = ['gdal_translate', '-ot', outputPixType, '-of', \n",
    "           outputFormat]\n",
    "    \n",
    "    # iterate through bands\n",
    "    for bandId in range(srcRaster.RasterCount):\n",
    "        bandId = bandId+1\n",
    "        band = srcRaster.GetRasterBand(bandId)\n",
    "\n",
    "        bmin = band.GetMinimum()        \n",
    "        bmax = band.GetMaximum()\n",
    "        # if not exist minimum and maximum values\n",
    "        if bmin is None or bmax is None:\n",
    "            (bmin, bmax) = band.ComputeRasterMinMax(1)\n",
    "        # else, rescale\n",
    "        band_arr_tmp = band.ReadAsArray()\n",
    "        bmin = np.percentile(band_arr_tmp.flatten(), \n",
    "                             percentiles[0])\n",
    "        bmax= np.percentile(band_arr_tmp.flatten(), \n",
    "                            percentiles[1])\n",
    "\n",
    "        cmd.append('-scale_{}'.format(bandId))\n",
    "        cmd.append('{}'.format(bmin))\n",
    "        cmd.append('{}'.format(bmax))\n",
    "        cmd.append('{}'.format(0))\n",
    "        cmd.append('{}'.format(255))\n",
    "    cmd.append(inputRaster)\n",
    "    cmd.append(outputRaster)\n",
    "    print(\"Conversin command:\", cmd)\n",
    "    subprocess.call(cmd)\n",
    "    \n"
   ]
  },
  {
   "cell_type": "code",
   "execution_count": 66,
   "metadata": {},
   "outputs": [
    {
     "data": {
      "text/plain": [
       "['C:\\\\Users\\\\carellano.LEGION5PRO-O3OB\\\\Documents\\\\IP AppDev\\\\Data\\\\SpaceNet\\\\PS-RGB2_selected\\\\PS-RGB_img1003.tif',\n",
       " 'C:\\\\Users\\\\carellano.LEGION5PRO-O3OB\\\\Documents\\\\IP AppDev\\\\Data\\\\SpaceNet\\\\PS-RGB2_selected\\\\PS-RGB_img1004.tif',\n",
       " 'C:\\\\Users\\\\carellano.LEGION5PRO-O3OB\\\\Documents\\\\IP AppDev\\\\Data\\\\SpaceNet\\\\PS-RGB2_selected\\\\PS-RGB_img1113.tif',\n",
       " 'C:\\\\Users\\\\carellano.LEGION5PRO-O3OB\\\\Documents\\\\IP AppDev\\\\Data\\\\SpaceNet\\\\PS-RGB2_selected\\\\PS-RGB_img1114.tif',\n",
       " 'C:\\\\Users\\\\carellano.LEGION5PRO-O3OB\\\\Documents\\\\IP AppDev\\\\Data\\\\SpaceNet\\\\PS-RGB2_selected\\\\PS-RGB_img1115.tif',\n",
       " 'C:\\\\Users\\\\carellano.LEGION5PRO-O3OB\\\\Documents\\\\IP AppDev\\\\Data\\\\SpaceNet\\\\PS-RGB2_selected\\\\PS-RGB_img1116.tif',\n",
       " 'C:\\\\Users\\\\carellano.LEGION5PRO-O3OB\\\\Documents\\\\IP AppDev\\\\Data\\\\SpaceNet\\\\PS-RGB2_selected\\\\PS-RGB_img1232.tif',\n",
       " 'C:\\\\Users\\\\carellano.LEGION5PRO-O3OB\\\\Documents\\\\IP AppDev\\\\Data\\\\SpaceNet\\\\PS-RGB2_selected\\\\PS-RGB_img1233.tif',\n",
       " 'C:\\\\Users\\\\carellano.LEGION5PRO-O3OB\\\\Documents\\\\IP AppDev\\\\Data\\\\SpaceNet\\\\PS-RGB2_selected\\\\PS-RGB_img1234.tif',\n",
       " 'C:\\\\Users\\\\carellano.LEGION5PRO-O3OB\\\\Documents\\\\IP AppDev\\\\Data\\\\SpaceNet\\\\PS-RGB2_selected\\\\PS-RGB_img1235.tif',\n",
       " 'C:\\\\Users\\\\carellano.LEGION5PRO-O3OB\\\\Documents\\\\IP AppDev\\\\Data\\\\SpaceNet\\\\PS-RGB2_selected\\\\PS-RGB_img1345.tif',\n",
       " 'C:\\\\Users\\\\carellano.LEGION5PRO-O3OB\\\\Documents\\\\IP AppDev\\\\Data\\\\SpaceNet\\\\PS-RGB2_selected\\\\PS-RGB_img1346.tif',\n",
       " 'C:\\\\Users\\\\carellano.LEGION5PRO-O3OB\\\\Documents\\\\IP AppDev\\\\Data\\\\SpaceNet\\\\PS-RGB2_selected\\\\PS-RGB_img1348.tif',\n",
       " 'C:\\\\Users\\\\carellano.LEGION5PRO-O3OB\\\\Documents\\\\IP AppDev\\\\Data\\\\SpaceNet\\\\PS-RGB2_selected\\\\PS-RGB_img1452.tif',\n",
       " 'C:\\\\Users\\\\carellano.LEGION5PRO-O3OB\\\\Documents\\\\IP AppDev\\\\Data\\\\SpaceNet\\\\PS-RGB2_selected\\\\PS-RGB_img1453.tif',\n",
       " 'C:\\\\Users\\\\carellano.LEGION5PRO-O3OB\\\\Documents\\\\IP AppDev\\\\Data\\\\SpaceNet\\\\PS-RGB2_selected\\\\PS-RGB_img1454.tif']"
      ]
     },
     "execution_count": 66,
     "metadata": {},
     "output_type": "execute_result"
    }
   ],
   "source": [
    "list_tif = (glob.glob(\"C:\\\\Users\\\\carellano.LEGION5PRO-O3OB\\\\Documents\\\\IP AppDev\\\\Data\\\\SpaceNet\\\\PS-RGB2_selected\\\\*.tif\"))\n",
    "list_tif"
   ]
  },
  {
   "cell_type": "code",
   "execution_count": 85,
   "metadata": {},
   "outputs": [
    {
     "name": "stdout",
     "output_type": "stream",
     "text": [
      "\n",
      " #### ----  Starting: 16-bit TIF to 8-bit unsigned PNG   ------ #####\n",
      "\n",
      "PS-RGB_img1003.tif\n",
      "C:\\Users\\carellano.LEGION5PRO-O3OB\\Documents\\IP AppDev\\Data\\SpaceNet\\PS-RGB2_selected\\PS-RGB_img1003.tif\n",
      "transformed to png-> PS-RGB_img1003.png\n",
      "C:\\Users\\carellano.LEGION5PRO-O3OB\\Documents\\IP AppDev\\Data\\SpaceNet\\PS-RGB_selected_toPNG\\PS-RGB_img1003.png\n",
      "\n",
      "\n",
      "Conversin command: ['gdal_translate', '-ot', 'Byte', '-of', 'png', '-scale_1', '318.0', '661.0', '0', '255', '-scale_2', '447.0', '732.0', '0', '255', '-scale_3', '331.0', '494.0', '0', '255', 'C:\\\\Users\\\\carellano.LEGION5PRO-O3OB\\\\Documents\\\\IP AppDev\\\\Data\\\\SpaceNet\\\\PS-RGB2_selected\\\\PS-RGB_img1003.tif', 'C:\\\\Users\\\\carellano.LEGION5PRO-O3OB\\\\Documents\\\\IP AppDev\\\\Data\\\\SpaceNet\\\\PS-RGB_selected_toPNG\\\\PS-RGB_img1003.png']\n",
      "PS-RGB_img1004.tif\n",
      "C:\\Users\\carellano.LEGION5PRO-O3OB\\Documents\\IP AppDev\\Data\\SpaceNet\\PS-RGB2_selected\\PS-RGB_img1004.tif\n",
      "transformed to png-> PS-RGB_img1004.png\n",
      "C:\\Users\\carellano.LEGION5PRO-O3OB\\Documents\\IP AppDev\\Data\\SpaceNet\\PS-RGB_selected_toPNG\\PS-RGB_img1004.png\n",
      "\n",
      "\n",
      "Conversin command: ['gdal_translate', '-ot', 'Byte', '-of', 'png', '-scale_1', '348.0', '715.0', '0', '255', '-scale_2', '459.0', '767.0', '0', '255', '-scale_3', '335.0', '507.0', '0', '255', 'C:\\\\Users\\\\carellano.LEGION5PRO-O3OB\\\\Documents\\\\IP AppDev\\\\Data\\\\SpaceNet\\\\PS-RGB2_selected\\\\PS-RGB_img1004.tif', 'C:\\\\Users\\\\carellano.LEGION5PRO-O3OB\\\\Documents\\\\IP AppDev\\\\Data\\\\SpaceNet\\\\PS-RGB_selected_toPNG\\\\PS-RGB_img1004.png']\n",
      "PS-RGB_img1113.tif\n",
      "C:\\Users\\carellano.LEGION5PRO-O3OB\\Documents\\IP AppDev\\Data\\SpaceNet\\PS-RGB2_selected\\PS-RGB_img1113.tif\n",
      "transformed to png-> PS-RGB_img1113.png\n",
      "C:\\Users\\carellano.LEGION5PRO-O3OB\\Documents\\IP AppDev\\Data\\SpaceNet\\PS-RGB_selected_toPNG\\PS-RGB_img1113.png\n",
      "\n",
      "\n",
      "Conversin command: ['gdal_translate', '-ot', 'Byte', '-of', 'png', '-scale_1', '328.0', '773.0', '0', '255', '-scale_2', '454.0', '825.0', '0', '255', '-scale_3', '329.0', '545.0', '0', '255', 'C:\\\\Users\\\\carellano.LEGION5PRO-O3OB\\\\Documents\\\\IP AppDev\\\\Data\\\\SpaceNet\\\\PS-RGB2_selected\\\\PS-RGB_img1113.tif', 'C:\\\\Users\\\\carellano.LEGION5PRO-O3OB\\\\Documents\\\\IP AppDev\\\\Data\\\\SpaceNet\\\\PS-RGB_selected_toPNG\\\\PS-RGB_img1113.png']\n",
      "PS-RGB_img1114.tif\n",
      "C:\\Users\\carellano.LEGION5PRO-O3OB\\Documents\\IP AppDev\\Data\\SpaceNet\\PS-RGB2_selected\\PS-RGB_img1114.tif\n",
      "transformed to png-> PS-RGB_img1114.png\n",
      "C:\\Users\\carellano.LEGION5PRO-O3OB\\Documents\\IP AppDev\\Data\\SpaceNet\\PS-RGB_selected_toPNG\\PS-RGB_img1114.png\n",
      "\n",
      "\n",
      "Conversin command: ['gdal_translate', '-ot', 'Byte', '-of', 'png', '-scale_1', '342.0', '767.0', '0', '255', '-scale_2', '459.0', '831.0', '0', '255', '-scale_3', '335.0', '553.0', '0', '255', 'C:\\\\Users\\\\carellano.LEGION5PRO-O3OB\\\\Documents\\\\IP AppDev\\\\Data\\\\SpaceNet\\\\PS-RGB2_selected\\\\PS-RGB_img1114.tif', 'C:\\\\Users\\\\carellano.LEGION5PRO-O3OB\\\\Documents\\\\IP AppDev\\\\Data\\\\SpaceNet\\\\PS-RGB_selected_toPNG\\\\PS-RGB_img1114.png']\n",
      "PS-RGB_img1115.tif\n",
      "C:\\Users\\carellano.LEGION5PRO-O3OB\\Documents\\IP AppDev\\Data\\SpaceNet\\PS-RGB2_selected\\PS-RGB_img1115.tif\n",
      "transformed to png-> PS-RGB_img1115.png\n",
      "C:\\Users\\carellano.LEGION5PRO-O3OB\\Documents\\IP AppDev\\Data\\SpaceNet\\PS-RGB_selected_toPNG\\PS-RGB_img1115.png\n",
      "\n",
      "\n",
      "Conversin command: ['gdal_translate', '-ot', 'Byte', '-of', 'png', '-scale_1', '353.0', '756.0', '0', '255', '-scale_2', '464.0', '807.0', '0', '255', '-scale_3', '336.0', '532.0', '0', '255', 'C:\\\\Users\\\\carellano.LEGION5PRO-O3OB\\\\Documents\\\\IP AppDev\\\\Data\\\\SpaceNet\\\\PS-RGB2_selected\\\\PS-RGB_img1115.tif', 'C:\\\\Users\\\\carellano.LEGION5PRO-O3OB\\\\Documents\\\\IP AppDev\\\\Data\\\\SpaceNet\\\\PS-RGB_selected_toPNG\\\\PS-RGB_img1115.png']\n",
      "PS-RGB_img1116.tif\n",
      "C:\\Users\\carellano.LEGION5PRO-O3OB\\Documents\\IP AppDev\\Data\\SpaceNet\\PS-RGB2_selected\\PS-RGB_img1116.tif\n",
      "transformed to png-> PS-RGB_img1116.png\n",
      "C:\\Users\\carellano.LEGION5PRO-O3OB\\Documents\\IP AppDev\\Data\\SpaceNet\\PS-RGB_selected_toPNG\\PS-RGB_img1116.png\n",
      "\n",
      "\n",
      "Conversin command: ['gdal_translate', '-ot', 'Byte', '-of', 'png', '-scale_1', '366.0', '850.0', '0', '255', '-scale_2', '476.0', '927.0', '0', '255', '-scale_3', '342.0', '614.0', '0', '255', 'C:\\\\Users\\\\carellano.LEGION5PRO-O3OB\\\\Documents\\\\IP AppDev\\\\Data\\\\SpaceNet\\\\PS-RGB2_selected\\\\PS-RGB_img1116.tif', 'C:\\\\Users\\\\carellano.LEGION5PRO-O3OB\\\\Documents\\\\IP AppDev\\\\Data\\\\SpaceNet\\\\PS-RGB_selected_toPNG\\\\PS-RGB_img1116.png']\n",
      "PS-RGB_img1232.tif\n",
      "C:\\Users\\carellano.LEGION5PRO-O3OB\\Documents\\IP AppDev\\Data\\SpaceNet\\PS-RGB2_selected\\PS-RGB_img1232.tif\n",
      "transformed to png-> PS-RGB_img1232.png\n",
      "C:\\Users\\carellano.LEGION5PRO-O3OB\\Documents\\IP AppDev\\Data\\SpaceNet\\PS-RGB_selected_toPNG\\PS-RGB_img1232.png\n",
      "\n",
      "\n",
      "Conversin command: ['gdal_translate', '-ot', 'Byte', '-of', 'png', '-scale_1', '339.0', '847.0', '0', '255', '-scale_2', '460.0', '923.0', '0', '255', '-scale_3', '337.0', '603.0', '0', '255', 'C:\\\\Users\\\\carellano.LEGION5PRO-O3OB\\\\Documents\\\\IP AppDev\\\\Data\\\\SpaceNet\\\\PS-RGB2_selected\\\\PS-RGB_img1232.tif', 'C:\\\\Users\\\\carellano.LEGION5PRO-O3OB\\\\Documents\\\\IP AppDev\\\\Data\\\\SpaceNet\\\\PS-RGB_selected_toPNG\\\\PS-RGB_img1232.png']\n",
      "PS-RGB_img1233.tif\n",
      "C:\\Users\\carellano.LEGION5PRO-O3OB\\Documents\\IP AppDev\\Data\\SpaceNet\\PS-RGB2_selected\\PS-RGB_img1233.tif\n",
      "transformed to png-> PS-RGB_img1233.png\n",
      "C:\\Users\\carellano.LEGION5PRO-O3OB\\Documents\\IP AppDev\\Data\\SpaceNet\\PS-RGB_selected_toPNG\\PS-RGB_img1233.png\n",
      "\n",
      "\n",
      "Conversin command: ['gdal_translate', '-ot', 'Byte', '-of', 'png', '-scale_1', '352.0', '814.0', '0', '255', '-scale_2', '471.0', '889.0', '0', '255', '-scale_3', '338.0', '586.0', '0', '255', 'C:\\\\Users\\\\carellano.LEGION5PRO-O3OB\\\\Documents\\\\IP AppDev\\\\Data\\\\SpaceNet\\\\PS-RGB2_selected\\\\PS-RGB_img1233.tif', 'C:\\\\Users\\\\carellano.LEGION5PRO-O3OB\\\\Documents\\\\IP AppDev\\\\Data\\\\SpaceNet\\\\PS-RGB_selected_toPNG\\\\PS-RGB_img1233.png']\n",
      "PS-RGB_img1234.tif\n",
      "C:\\Users\\carellano.LEGION5PRO-O3OB\\Documents\\IP AppDev\\Data\\SpaceNet\\PS-RGB2_selected\\PS-RGB_img1234.tif\n",
      "transformed to png-> PS-RGB_img1234.png\n",
      "C:\\Users\\carellano.LEGION5PRO-O3OB\\Documents\\IP AppDev\\Data\\SpaceNet\\PS-RGB_selected_toPNG\\PS-RGB_img1234.png\n",
      "\n",
      "\n",
      "Conversin command: ['gdal_translate', '-ot', 'Byte', '-of', 'png', '-scale_1', '339.0', '808.0', '0', '255', '-scale_2', '461.0', '870.0', '0', '255', '-scale_3', '333.0', '575.0', '0', '255', 'C:\\\\Users\\\\carellano.LEGION5PRO-O3OB\\\\Documents\\\\IP AppDev\\\\Data\\\\SpaceNet\\\\PS-RGB2_selected\\\\PS-RGB_img1234.tif', 'C:\\\\Users\\\\carellano.LEGION5PRO-O3OB\\\\Documents\\\\IP AppDev\\\\Data\\\\SpaceNet\\\\PS-RGB_selected_toPNG\\\\PS-RGB_img1234.png']\n",
      "PS-RGB_img1235.tif\n",
      "C:\\Users\\carellano.LEGION5PRO-O3OB\\Documents\\IP AppDev\\Data\\SpaceNet\\PS-RGB2_selected\\PS-RGB_img1235.tif\n",
      "transformed to png-> PS-RGB_img1235.png\n",
      "C:\\Users\\carellano.LEGION5PRO-O3OB\\Documents\\IP AppDev\\Data\\SpaceNet\\PS-RGB_selected_toPNG\\PS-RGB_img1235.png\n",
      "\n",
      "\n",
      "Conversin command: ['gdal_translate', '-ot', 'Byte', '-of', 'png', '-scale_1', '358.0', '845.0', '0', '255', '-scale_2', '477.0', '930.0', '0', '255', '-scale_3', '342.0', '617.0', '0', '255', 'C:\\\\Users\\\\carellano.LEGION5PRO-O3OB\\\\Documents\\\\IP AppDev\\\\Data\\\\SpaceNet\\\\PS-RGB2_selected\\\\PS-RGB_img1235.tif', 'C:\\\\Users\\\\carellano.LEGION5PRO-O3OB\\\\Documents\\\\IP AppDev\\\\Data\\\\SpaceNet\\\\PS-RGB_selected_toPNG\\\\PS-RGB_img1235.png']\n",
      "PS-RGB_img1345.tif\n",
      "C:\\Users\\carellano.LEGION5PRO-O3OB\\Documents\\IP AppDev\\Data\\SpaceNet\\PS-RGB2_selected\\PS-RGB_img1345.tif\n",
      "transformed to png-> PS-RGB_img1345.png\n",
      "C:\\Users\\carellano.LEGION5PRO-O3OB\\Documents\\IP AppDev\\Data\\SpaceNet\\PS-RGB_selected_toPNG\\PS-RGB_img1345.png\n",
      "\n",
      "\n",
      "Conversin command: ['gdal_translate', '-ot', 'Byte', '-of', 'png', '-scale_1', '335.0', '842.0', '0', '255', '-scale_2', '459.0', '929.0', '0', '255', '-scale_3', '334.0', '604.0', '0', '255', 'C:\\\\Users\\\\carellano.LEGION5PRO-O3OB\\\\Documents\\\\IP AppDev\\\\Data\\\\SpaceNet\\\\PS-RGB2_selected\\\\PS-RGB_img1345.tif', 'C:\\\\Users\\\\carellano.LEGION5PRO-O3OB\\\\Documents\\\\IP AppDev\\\\Data\\\\SpaceNet\\\\PS-RGB_selected_toPNG\\\\PS-RGB_img1345.png']\n",
      "PS-RGB_img1346.tif\n",
      "C:\\Users\\carellano.LEGION5PRO-O3OB\\Documents\\IP AppDev\\Data\\SpaceNet\\PS-RGB2_selected\\PS-RGB_img1346.tif\n",
      "transformed to png-> PS-RGB_img1346.png\n",
      "C:\\Users\\carellano.LEGION5PRO-O3OB\\Documents\\IP AppDev\\Data\\SpaceNet\\PS-RGB_selected_toPNG\\PS-RGB_img1346.png\n",
      "\n",
      "\n",
      "Conversin command: ['gdal_translate', '-ot', 'Byte', '-of', 'png', '-scale_1', '333.0', '838.0', '0', '255', '-scale_2', '465.0', '910.0', '0', '255', '-scale_3', '332.0', '596.0', '0', '255', 'C:\\\\Users\\\\carellano.LEGION5PRO-O3OB\\\\Documents\\\\IP AppDev\\\\Data\\\\SpaceNet\\\\PS-RGB2_selected\\\\PS-RGB_img1346.tif', 'C:\\\\Users\\\\carellano.LEGION5PRO-O3OB\\\\Documents\\\\IP AppDev\\\\Data\\\\SpaceNet\\\\PS-RGB_selected_toPNG\\\\PS-RGB_img1346.png']\n"
     ]
    },
    {
     "name": "stdout",
     "output_type": "stream",
     "text": [
      "PS-RGB_img1348.tif\n",
      "C:\\Users\\carellano.LEGION5PRO-O3OB\\Documents\\IP AppDev\\Data\\SpaceNet\\PS-RGB2_selected\\PS-RGB_img1348.tif\n",
      "transformed to png-> PS-RGB_img1348.png\n",
      "C:\\Users\\carellano.LEGION5PRO-O3OB\\Documents\\IP AppDev\\Data\\SpaceNet\\PS-RGB_selected_toPNG\\PS-RGB_img1348.png\n",
      "\n",
      "\n",
      "Conversin command: ['gdal_translate', '-ot', 'Byte', '-of', 'png', '-scale_1', '343.0', '815.0', '0', '255', '-scale_2', '464.0', '871.0', '0', '255', '-scale_3', '337.0', '573.0', '0', '255', 'C:\\\\Users\\\\carellano.LEGION5PRO-O3OB\\\\Documents\\\\IP AppDev\\\\Data\\\\SpaceNet\\\\PS-RGB2_selected\\\\PS-RGB_img1348.tif', 'C:\\\\Users\\\\carellano.LEGION5PRO-O3OB\\\\Documents\\\\IP AppDev\\\\Data\\\\SpaceNet\\\\PS-RGB_selected_toPNG\\\\PS-RGB_img1348.png']\n",
      "PS-RGB_img1452.tif\n",
      "C:\\Users\\carellano.LEGION5PRO-O3OB\\Documents\\IP AppDev\\Data\\SpaceNet\\PS-RGB2_selected\\PS-RGB_img1452.tif\n",
      "transformed to png-> PS-RGB_img1452.png\n",
      "C:\\Users\\carellano.LEGION5PRO-O3OB\\Documents\\IP AppDev\\Data\\SpaceNet\\PS-RGB_selected_toPNG\\PS-RGB_img1452.png\n",
      "\n",
      "\n",
      "Conversin command: ['gdal_translate', '-ot', 'Byte', '-of', 'png', '-scale_1', '322.0', '807.0', '0', '255', '-scale_2', '447.0', '859.0', '0', '255', '-scale_3', '325.0', '562.0', '0', '255', 'C:\\\\Users\\\\carellano.LEGION5PRO-O3OB\\\\Documents\\\\IP AppDev\\\\Data\\\\SpaceNet\\\\PS-RGB2_selected\\\\PS-RGB_img1452.tif', 'C:\\\\Users\\\\carellano.LEGION5PRO-O3OB\\\\Documents\\\\IP AppDev\\\\Data\\\\SpaceNet\\\\PS-RGB_selected_toPNG\\\\PS-RGB_img1452.png']\n",
      "PS-RGB_img1453.tif\n",
      "C:\\Users\\carellano.LEGION5PRO-O3OB\\Documents\\IP AppDev\\Data\\SpaceNet\\PS-RGB2_selected\\PS-RGB_img1453.tif\n",
      "transformed to png-> PS-RGB_img1453.png\n",
      "C:\\Users\\carellano.LEGION5PRO-O3OB\\Documents\\IP AppDev\\Data\\SpaceNet\\PS-RGB_selected_toPNG\\PS-RGB_img1453.png\n",
      "\n",
      "\n",
      "Conversin command: ['gdal_translate', '-ot', 'Byte', '-of', 'png', '-scale_1', '348.0', '804.0', '0', '255', '-scale_2', '467.0', '859.0', '0', '255', '-scale_3', '335.0', '563.0', '0', '255', 'C:\\\\Users\\\\carellano.LEGION5PRO-O3OB\\\\Documents\\\\IP AppDev\\\\Data\\\\SpaceNet\\\\PS-RGB2_selected\\\\PS-RGB_img1453.tif', 'C:\\\\Users\\\\carellano.LEGION5PRO-O3OB\\\\Documents\\\\IP AppDev\\\\Data\\\\SpaceNet\\\\PS-RGB_selected_toPNG\\\\PS-RGB_img1453.png']\n",
      "PS-RGB_img1454.tif\n",
      "C:\\Users\\carellano.LEGION5PRO-O3OB\\Documents\\IP AppDev\\Data\\SpaceNet\\PS-RGB2_selected\\PS-RGB_img1454.tif\n",
      "transformed to png-> PS-RGB_img1454.png\n",
      "C:\\Users\\carellano.LEGION5PRO-O3OB\\Documents\\IP AppDev\\Data\\SpaceNet\\PS-RGB_selected_toPNG\\PS-RGB_img1454.png\n",
      "\n",
      "\n",
      "Conversin command: ['gdal_translate', '-ot', 'Byte', '-of', 'png', '-scale_1', '358.0', '712.0', '0', '255', '-scale_2', '477.0', '755.0', '0', '255', '-scale_3', '339.0', '499.0', '0', '255', 'C:\\\\Users\\\\carellano.LEGION5PRO-O3OB\\\\Documents\\\\IP AppDev\\\\Data\\\\SpaceNet\\\\PS-RGB2_selected\\\\PS-RGB_img1454.tif', 'C:\\\\Users\\\\carellano.LEGION5PRO-O3OB\\\\Documents\\\\IP AppDev\\\\Data\\\\SpaceNet\\\\PS-RGB_selected_toPNG\\\\PS-RGB_img1454.png']\n",
      "\n",
      " #### ----  done!   ------ #####\n"
     ]
    }
   ],
   "source": [
    "print(\"\\n #### ----  Starting: 16-bit TIF to 8-bit unsigned PNG   ------ #####\\n\")\n",
    "for file in list_tif:\n",
    "    fname = os.path.basename(file)\n",
    "    end = fname.find('.tif')\n",
    "    fname_base = fname[:end]\n",
    "    inPath = path+fname\n",
    "    print(fname)\n",
    "    print(inPath)\n",
    "    outPath   = \"C:\\\\Users\\\\carellano.LEGION5PRO-O3OB\\\\Documents\\\\IP AppDev\\\\Data\\\\SpaceNet\\\\PS-RGB_selected_toPNG\\\\\"\n",
    "    outPath   = outPath+fname_base+\".png\"\n",
    "    print(\"transformed to png-> {}.png\".format(fname_base))\n",
    "    print(outPath)\n",
    "    print(\"\\n\")\n",
    "    conv16bit_to_8Bit(inPath,outPath)\n",
    "print(\"\\n #### ----  done!   ------ #####\")"
   ]
  }
 ],
 "metadata": {
  "kernelspec": {
   "display_name": "Python 3 (ipykernel)",
   "language": "python",
   "name": "python3"
  },
  "language_info": {
   "codemirror_mode": {
    "name": "ipython",
    "version": 3
   },
   "file_extension": ".py",
   "mimetype": "text/x-python",
   "name": "python",
   "nbconvert_exporter": "python",
   "pygments_lexer": "ipython3",
   "version": "3.9.12"
  }
 },
 "nbformat": 4,
 "nbformat_minor": 2
}
