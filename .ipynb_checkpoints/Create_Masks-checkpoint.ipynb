{
 "cells": [
  {
   "cell_type": "code",
   "execution_count": null,
   "metadata": {},
   "outputs": [],
   "source": [
    "# Here, we want to create mask-files\n",
    "# from the geojson-files"
   ]
  },
  {
   "cell_type": "markdown",
   "metadata": {},
   "source": [
    "# GeoJSON --> .png"
   ]
  },
  {
   "cell_type": "markdown",
   "metadata": {},
   "source": [
    "Plot and save the given coordinates in GeoJSON files."
   ]
  },
  {
   "cell_type": "code",
   "execution_count": 5,
   "metadata": {},
   "outputs": [],
   "source": [
    "import numpy as np\n",
    "import matplotlib.pyplot as plt\n",
    "import os\n",
    "import json\n",
    "import geoio\n",
    "import glob"
   ]
  },
  {
   "cell_type": "code",
   "execution_count": 2,
   "metadata": {},
   "outputs": [],
   "source": [
    "ResimPATH = 'C:\\\\Users\\\\carellano.LEGION5PRO-O3OB\\\\Documents\\\\IP AppDev\\\\Data\\\\SpaceNet\\\\PS-RGB_selected_toPNG' \n",
    "# All the pictures from the given path\n",
    "ResimAdlari = os.listdir(ResimPATH)\n",
    "\n",
    "GeoJSONPATH = 'C:\\\\Users\\\\carellano.LEGION5PRO-O3OB\\\\Documents\\\\IP AppDev\\\\Data\\\\SpaceNet\\\\building_labels_select_geojson'\n",
    "# All the geojson-files from the given path\n",
    "GeoAdlari = os.listdir(GeoJSONPATH)"
   ]
  },
  {
   "cell_type": "code",
   "execution_count": 9,
   "metadata": {},
   "outputs": [
    {
     "data": {
      "text/plain": [
       "['PS-RGB_img1003.png',\n",
       " 'PS-RGB_img1003.png.aux.xml',\n",
       " 'PS-RGB_img1004.png',\n",
       " 'PS-RGB_img1004.png.aux.xml',\n",
       " 'PS-RGB_img1113.png',\n",
       " 'PS-RGB_img1113.png.aux.xml',\n",
       " 'PS-RGB_img1114.png',\n",
       " 'PS-RGB_img1114.png.aux.xml',\n",
       " 'PS-RGB_img1115.png',\n",
       " 'PS-RGB_img1115.png.aux.xml',\n",
       " 'PS-RGB_img1116.png',\n",
       " 'PS-RGB_img1116.png.aux.xml',\n",
       " 'PS-RGB_img1232.png',\n",
       " 'PS-RGB_img1232.png.aux.xml',\n",
       " 'PS-RGB_img1233.png',\n",
       " 'PS-RGB_img1233.png.aux.xml',\n",
       " 'PS-RGB_img1234.png',\n",
       " 'PS-RGB_img1234.png.aux.xml',\n",
       " 'PS-RGB_img1235.png',\n",
       " 'PS-RGB_img1235.png.aux.xml',\n",
       " 'PS-RGB_img1345.png',\n",
       " 'PS-RGB_img1345.png.aux.xml',\n",
       " 'PS-RGB_img1346.png',\n",
       " 'PS-RGB_img1346.png.aux.xml',\n",
       " 'PS-RGB_img1348.png',\n",
       " 'PS-RGB_img1348.png.aux.xml',\n",
       " 'PS-RGB_img1452.png',\n",
       " 'PS-RGB_img1452.png.aux.xml',\n",
       " 'PS-RGB_img1453.png',\n",
       " 'PS-RGB_img1453.png.aux.xml',\n",
       " 'PS-RGB_img1454.png',\n",
       " 'PS-RGB_img1454.png.aux.xml']"
      ]
     },
     "execution_count": 9,
     "metadata": {},
     "output_type": "execute_result"
    }
   ],
   "source": [
    "ResimAdlari"
   ]
  },
  {
   "cell_type": "code",
   "execution_count": 8,
   "metadata": {},
   "outputs": [
    {
     "data": {
      "text/plain": [
       "['C:\\\\Users\\\\carellano.LEGION5PRO-O3OB\\\\Documents\\\\IP AppDev\\\\Data\\\\SpaceNet\\\\PS-RGB_selected_toPNG\\\\PS-RGB_img1003.png',\n",
       " 'C:\\\\Users\\\\carellano.LEGION5PRO-O3OB\\\\Documents\\\\IP AppDev\\\\Data\\\\SpaceNet\\\\PS-RGB_selected_toPNG\\\\PS-RGB_img1004.png',\n",
       " 'C:\\\\Users\\\\carellano.LEGION5PRO-O3OB\\\\Documents\\\\IP AppDev\\\\Data\\\\SpaceNet\\\\PS-RGB_selected_toPNG\\\\PS-RGB_img1113.png',\n",
       " 'C:\\\\Users\\\\carellano.LEGION5PRO-O3OB\\\\Documents\\\\IP AppDev\\\\Data\\\\SpaceNet\\\\PS-RGB_selected_toPNG\\\\PS-RGB_img1114.png',\n",
       " 'C:\\\\Users\\\\carellano.LEGION5PRO-O3OB\\\\Documents\\\\IP AppDev\\\\Data\\\\SpaceNet\\\\PS-RGB_selected_toPNG\\\\PS-RGB_img1115.png',\n",
       " 'C:\\\\Users\\\\carellano.LEGION5PRO-O3OB\\\\Documents\\\\IP AppDev\\\\Data\\\\SpaceNet\\\\PS-RGB_selected_toPNG\\\\PS-RGB_img1116.png',\n",
       " 'C:\\\\Users\\\\carellano.LEGION5PRO-O3OB\\\\Documents\\\\IP AppDev\\\\Data\\\\SpaceNet\\\\PS-RGB_selected_toPNG\\\\PS-RGB_img1232.png',\n",
       " 'C:\\\\Users\\\\carellano.LEGION5PRO-O3OB\\\\Documents\\\\IP AppDev\\\\Data\\\\SpaceNet\\\\PS-RGB_selected_toPNG\\\\PS-RGB_img1233.png',\n",
       " 'C:\\\\Users\\\\carellano.LEGION5PRO-O3OB\\\\Documents\\\\IP AppDev\\\\Data\\\\SpaceNet\\\\PS-RGB_selected_toPNG\\\\PS-RGB_img1234.png',\n",
       " 'C:\\\\Users\\\\carellano.LEGION5PRO-O3OB\\\\Documents\\\\IP AppDev\\\\Data\\\\SpaceNet\\\\PS-RGB_selected_toPNG\\\\PS-RGB_img1235.png',\n",
       " 'C:\\\\Users\\\\carellano.LEGION5PRO-O3OB\\\\Documents\\\\IP AppDev\\\\Data\\\\SpaceNet\\\\PS-RGB_selected_toPNG\\\\PS-RGB_img1345.png',\n",
       " 'C:\\\\Users\\\\carellano.LEGION5PRO-O3OB\\\\Documents\\\\IP AppDev\\\\Data\\\\SpaceNet\\\\PS-RGB_selected_toPNG\\\\PS-RGB_img1346.png',\n",
       " 'C:\\\\Users\\\\carellano.LEGION5PRO-O3OB\\\\Documents\\\\IP AppDev\\\\Data\\\\SpaceNet\\\\PS-RGB_selected_toPNG\\\\PS-RGB_img1348.png',\n",
       " 'C:\\\\Users\\\\carellano.LEGION5PRO-O3OB\\\\Documents\\\\IP AppDev\\\\Data\\\\SpaceNet\\\\PS-RGB_selected_toPNG\\\\PS-RGB_img1452.png',\n",
       " 'C:\\\\Users\\\\carellano.LEGION5PRO-O3OB\\\\Documents\\\\IP AppDev\\\\Data\\\\SpaceNet\\\\PS-RGB_selected_toPNG\\\\PS-RGB_img1453.png',\n",
       " 'C:\\\\Users\\\\carellano.LEGION5PRO-O3OB\\\\Documents\\\\IP AppDev\\\\Data\\\\SpaceNet\\\\PS-RGB_selected_toPNG\\\\PS-RGB_img1454.png']"
      ]
     },
     "execution_count": 8,
     "metadata": {},
     "output_type": "execute_result"
    }
   ],
   "source": [
    "#list training images\n",
    "list_png = (glob.glob(\"C:\\\\Users\\\\carellano.LEGION5PRO-O3OB\\\\Documents\\\\IP AppDev\\\\Data\\\\SpaceNet\\\\PS-RGB_selected_toPNG\\\\*.png\"))\n",
    "list_png"
   ]
  },
  {
   "cell_type": "code",
   "execution_count": 10,
   "metadata": {},
   "outputs": [
    {
     "data": {
      "text/plain": [
       "['C:\\\\Users\\\\carellano.LEGION5PRO-O3OB\\\\Documents\\\\IP AppDev\\\\Data\\\\SpaceNet\\\\building_labels_select_geojson\\\\label_img1003.geojson',\n",
       " 'C:\\\\Users\\\\carellano.LEGION5PRO-O3OB\\\\Documents\\\\IP AppDev\\\\Data\\\\SpaceNet\\\\building_labels_select_geojson\\\\label_img1004.geojson',\n",
       " 'C:\\\\Users\\\\carellano.LEGION5PRO-O3OB\\\\Documents\\\\IP AppDev\\\\Data\\\\SpaceNet\\\\building_labels_select_geojson\\\\label_img1113.geojson',\n",
       " 'C:\\\\Users\\\\carellano.LEGION5PRO-O3OB\\\\Documents\\\\IP AppDev\\\\Data\\\\SpaceNet\\\\building_labels_select_geojson\\\\label_img1114.geojson',\n",
       " 'C:\\\\Users\\\\carellano.LEGION5PRO-O3OB\\\\Documents\\\\IP AppDev\\\\Data\\\\SpaceNet\\\\building_labels_select_geojson\\\\label_img1115.geojson',\n",
       " 'C:\\\\Users\\\\carellano.LEGION5PRO-O3OB\\\\Documents\\\\IP AppDev\\\\Data\\\\SpaceNet\\\\building_labels_select_geojson\\\\label_img1116.geojson',\n",
       " 'C:\\\\Users\\\\carellano.LEGION5PRO-O3OB\\\\Documents\\\\IP AppDev\\\\Data\\\\SpaceNet\\\\building_labels_select_geojson\\\\label_img1232.geojson',\n",
       " 'C:\\\\Users\\\\carellano.LEGION5PRO-O3OB\\\\Documents\\\\IP AppDev\\\\Data\\\\SpaceNet\\\\building_labels_select_geojson\\\\label_img1233.geojson',\n",
       " 'C:\\\\Users\\\\carellano.LEGION5PRO-O3OB\\\\Documents\\\\IP AppDev\\\\Data\\\\SpaceNet\\\\building_labels_select_geojson\\\\label_img1234.geojson',\n",
       " 'C:\\\\Users\\\\carellano.LEGION5PRO-O3OB\\\\Documents\\\\IP AppDev\\\\Data\\\\SpaceNet\\\\building_labels_select_geojson\\\\label_img1235.geojson',\n",
       " 'C:\\\\Users\\\\carellano.LEGION5PRO-O3OB\\\\Documents\\\\IP AppDev\\\\Data\\\\SpaceNet\\\\building_labels_select_geojson\\\\label_img1345.geojson',\n",
       " 'C:\\\\Users\\\\carellano.LEGION5PRO-O3OB\\\\Documents\\\\IP AppDev\\\\Data\\\\SpaceNet\\\\building_labels_select_geojson\\\\label_img1346.geojson',\n",
       " 'C:\\\\Users\\\\carellano.LEGION5PRO-O3OB\\\\Documents\\\\IP AppDev\\\\Data\\\\SpaceNet\\\\building_labels_select_geojson\\\\label_img1348.geojson',\n",
       " 'C:\\\\Users\\\\carellano.LEGION5PRO-O3OB\\\\Documents\\\\IP AppDev\\\\Data\\\\SpaceNet\\\\building_labels_select_geojson\\\\label_img1452.geojson',\n",
       " 'C:\\\\Users\\\\carellano.LEGION5PRO-O3OB\\\\Documents\\\\IP AppDev\\\\Data\\\\SpaceNet\\\\building_labels_select_geojson\\\\label_img1453.geojson',\n",
       " 'C:\\\\Users\\\\carellano.LEGION5PRO-O3OB\\\\Documents\\\\IP AppDev\\\\Data\\\\SpaceNet\\\\building_labels_select_geojson\\\\label_img1454.geojson']"
      ]
     },
     "execution_count": 10,
     "metadata": {},
     "output_type": "execute_result"
    }
   ],
   "source": [
    "#list of matching geojson files\n",
    "list_geojson = (glob.glob(\"C:\\\\Users\\\\carellano.LEGION5PRO-O3OB\\\\Documents\\\\IP AppDev\\\\Data\\\\SpaceNet\\\\building_labels_select_geojson\\\\*.geojson\"))\n",
    "list_geojson"
   ]
  },
  {
   "cell_type": "code",
   "execution_count": 11,
   "metadata": {},
   "outputs": [
    {
     "name": "stdout",
     "output_type": "stream",
     "text": [
      "16 16\n"
     ]
    }
   ],
   "source": [
    "print(len(list_png) , len(list_geojson))  # must match"
   ]
  },
  {
   "cell_type": "code",
   "execution_count": 12,
   "metadata": {},
   "outputs": [
    {
     "data": {
      "text/plain": [
       "'C:\\\\Users\\\\carellano.LEGION5PRO-O3OB\\\\Documents\\\\IP AppDev\\\\Data\\\\SpaceNet\\\\building_labels_select_geojson\\\\label_img1003.geojson'"
      ]
     },
     "execution_count": 12,
     "metadata": {},
     "output_type": "execute_result"
    }
   ],
   "source": [
    "list_geojson[0]"
   ]
  },
  {
   "cell_type": "code",
   "execution_count": 14,
   "metadata": {
    "scrolled": false
   },
   "outputs": [
    {
     "name": "stdout",
     "output_type": "stream",
     "text": [
      "\n",
      " #### ----  Starting: Building mask creation   ------ #####\n",
      "\n"
     ]
    },
    {
     "ename": "TypeError",
     "evalue": "expected str, bytes or os.PathLike object, not int",
     "output_type": "error",
     "traceback": [
      "\u001b[1;31m-----------------------------------\u001b[0m",
      "\u001b[1;31mTypeError\u001b[0mTraceback (most recent call last)",
      "Input \u001b[1;32mIn [14]\u001b[0m, in \u001b[0;36m<cell line: 4>\u001b[1;34m()\u001b[0m\n\u001b[0;32m      8\u001b[0m     data \u001b[38;5;241m=\u001b[39m json\u001b[38;5;241m.\u001b[39mload(f)\n\u001b[0;32m     11\u001b[0m \u001b[38;5;66;03m#preserve image number\u001b[39;00m\n\u001b[1;32m---> 12\u001b[0m fname \u001b[38;5;241m=\u001b[39m \u001b[43mos\u001b[49m\u001b[38;5;241;43m.\u001b[39;49m\u001b[43mpath\u001b[49m\u001b[38;5;241;43m.\u001b[39;49m\u001b[43mbasename\u001b[49m\u001b[43m(\u001b[49m\u001b[43mDosyaNumarasi\u001b[49m\u001b[43m)\u001b[49m\n\u001b[0;32m     13\u001b[0m finder \u001b[38;5;241m=\u001b[39m \u001b[38;5;124m'\u001b[39m\u001b[38;5;124mPS-RGB_img\u001b[39m\u001b[38;5;124m'\u001b[39m\n\u001b[0;32m     14\u001b[0m start \u001b[38;5;241m=\u001b[39m fname\u001b[38;5;241m.\u001b[39mfind(finder)\u001b[38;5;241m+\u001b[39m\u001b[38;5;241m1\u001b[39m\n",
      "File \u001b[1;32mC:\\ProgramData\\Miniconda3\\envs\\py39_tf\\lib\\ntpath.py:216\u001b[0m, in \u001b[0;36mbasename\u001b[1;34m(p)\u001b[0m\n\u001b[0;32m    214\u001b[0m \u001b[38;5;28;01mdef\u001b[39;00m \u001b[38;5;21mbasename\u001b[39m(p):\n\u001b[0;32m    215\u001b[0m     \u001b[38;5;124;03m\"\"\"Returns the final component of a pathname\"\"\"\u001b[39;00m\n\u001b[1;32m--> 216\u001b[0m     \u001b[38;5;28;01mreturn\u001b[39;00m \u001b[43msplit\u001b[49m\u001b[43m(\u001b[49m\u001b[43mp\u001b[49m\u001b[43m)\u001b[49m[\u001b[38;5;241m1\u001b[39m]\n",
      "File \u001b[1;32mC:\\ProgramData\\Miniconda3\\envs\\py39_tf\\lib\\ntpath.py:185\u001b[0m, in \u001b[0;36msplit\u001b[1;34m(p)\u001b[0m\n\u001b[0;32m    180\u001b[0m \u001b[38;5;28;01mdef\u001b[39;00m \u001b[38;5;21msplit\u001b[39m(p):\n\u001b[0;32m    181\u001b[0m     \u001b[38;5;124;03m\"\"\"Split a pathname.\u001b[39;00m\n\u001b[0;32m    182\u001b[0m \n\u001b[0;32m    183\u001b[0m \u001b[38;5;124;03m    Return tuple (head, tail) where tail is everything after the final slash.\u001b[39;00m\n\u001b[0;32m    184\u001b[0m \u001b[38;5;124;03m    Either part may be empty.\"\"\"\u001b[39;00m\n\u001b[1;32m--> 185\u001b[0m     p \u001b[38;5;241m=\u001b[39m \u001b[43mos\u001b[49m\u001b[38;5;241;43m.\u001b[39;49m\u001b[43mfspath\u001b[49m\u001b[43m(\u001b[49m\u001b[43mp\u001b[49m\u001b[43m)\u001b[49m\n\u001b[0;32m    186\u001b[0m     seps \u001b[38;5;241m=\u001b[39m _get_bothseps(p)\n\u001b[0;32m    187\u001b[0m     d, p \u001b[38;5;241m=\u001b[39m splitdrive(p)\n",
      "\u001b[1;31mTypeError\u001b[0m: expected str, bytes or os.PathLike object, not int"
     ]
    }
   ],
   "source": [
    "print(\"\\n #### ----  Starting: Building mask creation   ------ #####\\n\")\n",
    "\n",
    "# DosyaNumarasi takes the number from 0 to how big your training dataset\n",
    "for DosyaNumarasi in range(len(list_png)):\n",
    "\n",
    "    # data holds the info for the each GeoJSON-file\n",
    "    with open(list_geojson[DosyaNumarasi]) as f:\n",
    "        data = json.load(f)\n",
    "    \n",
    "    \n",
    "    #preserve image number\n",
    "    fname = os.path.basename(list_png[DosyaNumarasi])\n",
    "    finder = 'PS-RGB_img'\n",
    "    start = fname.find(finder)+1\n",
    "    end = fname.find('.png')\n",
    "    img_name = fname[start:end]\n",
    "\n",
    "    \n",
    "    # RGBTIFResmi holds the info for each TIF-file\n",
    "    RGBTIFResmi = geoio.GeoImage(list_png[DosyaNumarasi])\n",
    "\n",
    "    cokgenler = [] # Hold the coordinates for each building in the picture.\n",
    "                   # (Outside for loop is for each picture, and here, cokgenler\n",
    "                   # will hold the coordinates for each building in one picture.)\n",
    "    types = [] # Holds the type of the buldings (MultiPolygon - Partial Building - Point)\n",
    "               # We are not interested in the points.\n",
    "        \n",
    "    # Create the pane size of 650x650 to put the figures from geojson-file. Otherwise,\n",
    "    # the buildings may be flipped or they may saved one by one \n",
    "    arkaPlan = np.zeros([650,650])\n",
    "    plt.imshow(arkaPlan)\n",
    "\n",
    "    try:\n",
    "        # We do not know how many buildings the picture includes.\n",
    "        # So, we just give very big number to make sure that we utilized\n",
    "        # all the buildings in one picture.\n",
    "        # In short, bina keeps what order the building is.\n",
    "        for bina in range(2000):\n",
    "            tip = str(data['features'][bina]['geometry']['type'])\n",
    "            types.append(tip) # Append all the type of the buildings\n",
    "\n",
    "            # If type is point, do not do anything\n",
    "            if tip == ('Point'):\n",
    "                pass\n",
    "            \n",
    "            # If type is MultiPolygon, cokgenler will hold the coordinates\n",
    "            elif tip == ('MultiPolygon'):\n",
    "                kucukBinalar = (data['features'][bina]['geometry']['coordinates'])\n",
    "                for b in range(len(kucukBinalar)):        \n",
    "                    cokgenler.append(kucukBinalar[b])\n",
    "                    \n",
    "            # For the rest of the types, cokgenler will hold the coordinates again\n",
    "            else:\n",
    "                cokgenler.append(data['features'][bina]['geometry']['coordinates'])\n",
    "\n",
    "    except IndexError:\n",
    "        # If we utilized all the buildings in the given picture,\n",
    "        # lest create mask for each one.\n",
    "        \n",
    "        # cokgenBina holds the each building's coordinates\n",
    "        for cokgenBina in cokgenler:  \n",
    "\n",
    "            # binaNoktalari holds the individual edge coordinates for each building.\n",
    "            for binaNoktalari in cokgenBina:\n",
    "                \n",
    "                # To hold the edge coordinates (in pixel form)\n",
    "                doldurX = []\n",
    "                doldurY = []\n",
    "\n",
    "                # noktas holds x and y for each edge coordinate\n",
    "                for noktas in binaNoktalari:\n",
    "                    \n",
    "                    # Convert Latitude&Longitude to the pixels\n",
    "                    xPixel, yPixel = RGBTIFResmi.proj_to_raster(noktas[0], noktas[1])\n",
    "                    \n",
    "                    # The pixels may be 650 which defaces the masks.\n",
    "                    xPixel = 649 if xPixel > 649 else xPixel\n",
    "                    yPixel = 649 if yPixel > 649 else yPixel\n",
    "                    \n",
    "                    # Keep x and y in pixel form\n",
    "                    doldurX.append(xPixel)\n",
    "                    doldurY.append(yPixel)\n",
    "                    \n",
    "                # To paint between given pixel values\n",
    "                plt.fill_between(doldurX, doldurY, facecolor='red')\n",
    "                \n",
    "                # To remove white area around matplotlib figure\n",
    "                fig = plt.figure(1)\n",
    "                extent = plt.gca().get_window_extent().transformed(fig.dpi_scale_trans.inverted())\n",
    "\n",
    "                # Adjust the DPI for 650x650\n",
    "                # and save the figure\n",
    "                # While saving, you should put them in order; 0 to ...\n",
    "                fig.savefig('C:\\\\Users\\\\carellano.LEGION5PRO-O3OB\\\\Documents\\\\IP AppDev\\Data\\\\SpaceNet\\\\mask_for_training'+img_name+'.png', bbox_inches=extent, dpi=215.24)\n",
    "            \n",
    "        # Close the figure after an image is done.\n",
    "        plt.close()\n",
    "\n",
    "print(\"\\n #### ----  done!   ------ #####\")"
   ]
  },
  {
   "cell_type": "code",
   "execution_count": null,
   "metadata": {},
   "outputs": [],
   "source": []
  }
 ],
 "metadata": {
  "kernelspec": {
   "display_name": "py39 (TF2.9.1)",
   "language": "python",
   "name": "py39_tf"
  },
  "language_info": {
   "codemirror_mode": {
    "name": "ipython",
    "version": 3
   },
   "file_extension": ".py",
   "mimetype": "text/x-python",
   "name": "python",
   "nbconvert_exporter": "python",
   "pygments_lexer": "ipython3",
   "version": "3.9.12"
  }
 },
 "nbformat": 4,
 "nbformat_minor": 2
}
